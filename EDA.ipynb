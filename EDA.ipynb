{
 "cells": [
  {
   "attachments": {},
   "cell_type": "markdown",
   "metadata": {},
   "source": [
    "#### Importando las librerias para el analisis exploratori de datos"
   ]
  },
  {
   "cell_type": "code",
   "execution_count": 4,
   "metadata": {},
   "outputs": [],
   "source": [
    "\n",
    "import pandas as pd\n",
    "import matplotlib.pyplot as plt\n"
   ]
  },
  {
   "attachments": {},
   "cell_type": "markdown",
   "metadata": {},
   "source": [
    "#### cargando la data df_actualizado_movie"
   ]
  },
  {
   "cell_type": "code",
   "execution_count": 16,
   "metadata": {},
   "outputs": [
    {
     "data": {
      "text/html": [
       "<div>\n",
       "<style scoped>\n",
       "    .dataframe tbody tr th:only-of-type {\n",
       "        vertical-align: middle;\n",
       "    }\n",
       "\n",
       "    .dataframe tbody tr th {\n",
       "        vertical-align: top;\n",
       "    }\n",
       "\n",
       "    .dataframe thead th {\n",
       "        text-align: right;\n",
       "    }\n",
       "</style>\n",
       "<table border=\"1\" class=\"dataframe\">\n",
       "  <thead>\n",
       "    <tr style=\"text-align: right;\">\n",
       "      <th></th>\n",
       "      <th>budget</th>\n",
       "      <th>id</th>\n",
       "      <th>original_language</th>\n",
       "      <th>overview</th>\n",
       "      <th>popularity</th>\n",
       "      <th>revenue</th>\n",
       "      <th>runtime</th>\n",
       "      <th>status</th>\n",
       "      <th>tagline</th>\n",
       "      <th>title</th>\n",
       "      <th>vote_average</th>\n",
       "      <th>release_year</th>\n",
       "      <th>mes</th>\n",
       "      <th>dia</th>\n",
       "      <th>return</th>\n",
       "      <th>franquicia</th>\n",
       "      <th>genres</th>\n",
       "      <th>production_companies</th>\n",
       "      <th>production_countries</th>\n",
       "    </tr>\n",
       "  </thead>\n",
       "  <tbody>\n",
       "    <tr>\n",
       "      <th>0</th>\n",
       "      <td>30000000.0</td>\n",
       "      <td>862</td>\n",
       "      <td>en</td>\n",
       "      <td>Led by Woody, Andy's toys live happily in his ...</td>\n",
       "      <td>21.946943</td>\n",
       "      <td>373554033.0</td>\n",
       "      <td>81.0</td>\n",
       "      <td>Released</td>\n",
       "      <td>NaN</td>\n",
       "      <td>Toy Story</td>\n",
       "      <td>7.7</td>\n",
       "      <td>1995.0</td>\n",
       "      <td>octubre</td>\n",
       "      <td>martes</td>\n",
       "      <td>12.45</td>\n",
       "      <td>Toy Story Collection</td>\n",
       "      <td>Animation,Comedy,Family</td>\n",
       "      <td>Pixar Animation Studios</td>\n",
       "      <td>United States of America</td>\n",
       "    </tr>\n",
       "    <tr>\n",
       "      <th>1</th>\n",
       "      <td>65000000.0</td>\n",
       "      <td>8844</td>\n",
       "      <td>en</td>\n",
       "      <td>When siblings Judy and Peter discover an encha...</td>\n",
       "      <td>17.015539</td>\n",
       "      <td>262797249.0</td>\n",
       "      <td>104.0</td>\n",
       "      <td>Released</td>\n",
       "      <td>Roll the dice and unleash the excitement!</td>\n",
       "      <td>Jumanji</td>\n",
       "      <td>6.9</td>\n",
       "      <td>1995.0</td>\n",
       "      <td>diciembre</td>\n",
       "      <td>lunes</td>\n",
       "      <td>4.04</td>\n",
       "      <td>NaN</td>\n",
       "      <td>Adventure,Fantasy,Family</td>\n",
       "      <td>TriStar Pictures</td>\n",
       "      <td>United States of America</td>\n",
       "    </tr>\n",
       "  </tbody>\n",
       "</table>\n",
       "</div>"
      ],
      "text/plain": [
       "       budget    id original_language   \n",
       "0  30000000.0   862                en  \\\n",
       "1  65000000.0  8844                en   \n",
       "\n",
       "                                            overview  popularity      revenue   \n",
       "0  Led by Woody, Andy's toys live happily in his ...   21.946943  373554033.0  \\\n",
       "1  When siblings Judy and Peter discover an encha...   17.015539  262797249.0   \n",
       "\n",
       "   runtime    status                                    tagline      title   \n",
       "0     81.0  Released                                        NaN  Toy Story  \\\n",
       "1    104.0  Released  Roll the dice and unleash the excitement!    Jumanji   \n",
       "\n",
       "   vote_average  release_year        mes     dia  return   \n",
       "0           7.7        1995.0    octubre  martes   12.45  \\\n",
       "1           6.9        1995.0  diciembre   lunes    4.04   \n",
       "\n",
       "             franquicia                    genres     production_companies   \n",
       "0  Toy Story Collection   Animation,Comedy,Family  Pixar Animation Studios  \\\n",
       "1                   NaN  Adventure,Fantasy,Family         TriStar Pictures   \n",
       "\n",
       "       production_countries  \n",
       "0  United States of America  \n",
       "1  United States of America  "
      ]
     },
     "execution_count": 16,
     "metadata": {},
     "output_type": "execute_result"
    }
   ],
   "source": [
    "df_general= pd.read_csv(\"../trabajo_venv/Data_set/movies_dataset2023_para_EDA.csv\",sep=\",\")\n",
    "df_general.head(2)"
   ]
  },
  {
   "attachments": {},
   "cell_type": "markdown",
   "metadata": {},
   "source": [
    "#### Contando datos faltantes en cada columna del dataset\n",
    "- La salida es un valor de verdad que indica si el valor que se le pasa como parámetro es o no un dato faltante.\n",
    "- **True** significa que ese valor es faltante o no estpa presente y el valor **False** significa que ese valor está presente es decir que no falta datos esta completo."
   ]
  },
  {
   "cell_type": "code",
   "execution_count": null,
   "metadata": {},
   "outputs": [],
   "source": [
    "for columna in df_general.isnull().columns.values.tolist():\n",
    "    print('columna:',columna)\n",
    "    print (df_general.isnull()[columna].value_counts())\n",
    "    print(\"\") "
   ]
  },
  {
   "attachments": {},
   "cell_type": "markdown",
   "metadata": {},
   "source": [
    "Basado en el resumen anterior, cada columna tiene  45363 filas de datos y 6 columnas tienen datos faltantes.\n",
    "1. \"production_companies(compañia productora)\" tiene  12341 datos faltantes\n",
    "2. \"genres(genero)\" tiene  2476 datos faltantes\n",
    "3. \"franquicia\" tiene  3157 datos faltantes\n",
    "4. \"return(retorno de inversión)\" tiene 34454 datos faltantes\n",
    "5. \"tagline(frace de pelicula)\" tiene  24969 datos faltantes\n",
    "6. \"status(estado de la pelicula)\" tiene 80 datos faltantes\n",
    "7. \"runtime(duracion de pelicula en segundos) tiene 246 datos faltante\n",
    "7. \"overview(resumen de la pelicula) tiene 941 datos faltante\n",
    "7. \"original_language(idioma original) tiene 11 datos faltante"
   ]
  },
  {
   "cell_type": "code",
   "execution_count": 17,
   "metadata": {},
   "outputs": [
    {
     "data": {
      "text/plain": [
       "budget                  float64\n",
       "id                        int64\n",
       "original_language        object\n",
       "overview                 object\n",
       "popularity              float64\n",
       "revenue                 float64\n",
       "runtime                 float64\n",
       "status                   object\n",
       "tagline                  object\n",
       "title                    object\n",
       "vote_average            float64\n",
       "release_year            float64\n",
       "mes                      object\n",
       "dia                      object\n",
       "return                  float64\n",
       "franquicia               object\n",
       "genres                   object\n",
       "production_companies     object\n",
       "production_countries     object\n",
       "dtype: object"
      ]
     },
     "execution_count": 17,
     "metadata": {},
     "output_type": "execute_result"
    }
   ],
   "source": [
    "df_general.dtypes"
   ]
  },
  {
   "attachments": {},
   "cell_type": "markdown",
   "metadata": {},
   "source": [
    "##### cambiando el tido de datos de la columna ***release_year*** float64 a int"
   ]
  },
  {
   "cell_type": "code",
   "execution_count": 18,
   "metadata": {},
   "outputs": [],
   "source": [
    "df_general.dropna(subset=[\"release_year\"],inplace=True)"
   ]
  },
  {
   "cell_type": "code",
   "execution_count": 19,
   "metadata": {},
   "outputs": [],
   "source": [
    "df_general['release_year'] = df_general['release_year'].apply(int)"
   ]
  },
  {
   "attachments": {},
   "cell_type": "markdown",
   "metadata": {},
   "source": [
    "##### en la columna production_companies tienen algunos datos que terminan en puntos "
   ]
  },
  {
   "cell_type": "code",
   "execution_count": 27,
   "metadata": {},
   "outputs": [
    {
     "data": {
      "text/plain": [
       "array(['Pixar Animation Studios', 'TriStar Pictures', 'Warner Bros.', ...,\n",
       "       'Neptune Salad Entertainment', 'Sine Olivia', 'Yermoliev'],\n",
       "      dtype=object)"
      ]
     },
     "execution_count": 27,
     "metadata": {},
     "output_type": "execute_result"
    }
   ],
   "source": [
    "df_general[\"production_companies\"].unique()"
   ]
  },
  {
   "cell_type": "code",
   "execution_count": 39,
   "metadata": {},
   "outputs": [],
   "source": [
    "df_general[\"production_companies\"]=df_general[\"production_companies\"].str.strip()"
   ]
  },
  {
   "cell_type": "code",
   "execution_count": 40,
   "metadata": {},
   "outputs": [],
   "source": [
    "df_general[\"production_companies\"]=df_general[\"production_companies\"].str.replace(\".\",\"\")\n",
    "df_general[\"production_companies\"]=df_general[\"production_companies\"].str.replace(\"+\",\"\")\n",
    "df_general[\"production_companies\"]=df_general[\"production_companies\"].str.replace(\"(MGM)\",\"\") \n",
    "df_general[\"production_companies\"]=df_general[\"production_companies\"].str.replace(\"(TMN)\",\"\")\n",
    "df_general[\"production_companies\"]=df_general[\"production_companies\"].str.replace(\"(ZDF)\",\"\")"
   ]
  },
  {
   "attachments": {},
   "cell_type": "markdown",
   "metadata": {},
   "source": [
  
    
   ]
  },
  {
   "cell_type": "code",
   "execution_count": 64,
   "metadata": {},
   "outputs": [
    {
     "data": {
      "text/plain": [
       "title\n",
       "False    42196\n",
       "True      3167\n",
       "Name: count, dtype: int64"
      ]
     },
     "execution_count": 64,
     "metadata": {},
     "output_type": "execute_result"
    }
   ],
   "source": [
    "df_general[\"title\"].duplicated().value_counts()\n"
   ]
  },
  {
   "cell_type": "code",
   "execution_count": null,
   "metadata": {},
   "outputs": [],
   "source": [
    "df_general[\"franquicia\"].value_counts().plot.barh()\n",
    "#plt.show()"
   ]
  },
  {
   "attachments": {},
   "cell_type": "markdown",
   "metadata": {},
   "source": [
    "##### resultado final del dataset"
   ]
  },
  {
   "cell_type": "code",
   "execution_count": 42,
   "metadata": {},
   "outputs": [],
   "source": [
    "df_general.to_csv('../trabajo_venv/Data_set/df_movies_dataset_actualizado_final.csv', index = False)"
   ]
  }
 ],
 "metadata": {
  "kernelspec": {
   "display_name": "trabajo_venv",
   "language": "python",
   "name": "python3"
  },
  "language_info": {
   "codemirror_mode": {
    "name": "ipython",
    "version": 3
   },
   "file_extension": ".py",
   "mimetype": "text/x-python",
   "name": "python",
   "nbconvert_exporter": "python",
   "pygments_lexer": "ipython3",
   "version": "3.11.2"
  },
  "orig_nbformat": 4
 },
 "nbformat": 4,
 "nbformat_minor": 2
}
